{
  "nbformat": 4,
  "nbformat_minor": 0,
  "metadata": {
    "colab": {
      "name": "Copy of Assignment15-template.ipynb",
      "provenance": [],
      "collapsed_sections": [],
      "include_colab_link": true
    },
    "kernelspec": {
      "name": "python3",
      "display_name": "Python 3"
    },
    "language_info": {
      "name": "python"
    }
  },
  "cells": [
    {
      "cell_type": "markdown",
      "metadata": {
        "id": "view-in-github",
        "colab_type": "text"
      },
      "source": [
        "<a href=\"https://colab.research.google.com/github/turnerlogan/turnerlogan.github.io/blob/main/assignment15.ipynb\" target=\"_parent\"><img src=\"https://colab.research.google.com/assets/colab-badge.svg\" alt=\"Open In Colab\"/></a>"
      ]
    },
    {
      "cell_type": "markdown",
      "source": [
        "## Assignment 15 Template"
      ],
      "metadata": {
        "id": "2QESRbyK731U"
      }
    },
    {
      "cell_type": "markdown",
      "source": [
        "### Imports\n",
        "\n",
        "Don't touch these; we need them for the scraper to work correctly."
      ],
      "metadata": {
        "id": "fvws--Qn8ALT"
      }
    },
    {
      "cell_type": "code",
      "execution_count": 2,
      "metadata": {
        "id": "1w8eCSaj73Xh"
      },
      "outputs": [],
      "source": [
        "from urllib.request import urlopen\n",
        "from bs4 import BeautifulSoup"
      ]
    },
    {
      "cell_type": "markdown",
      "source": [
        "### Getting the URL\n",
        "\n",
        "In the next cell, place the code to open the URL, and assign it to a variable."
      ],
      "metadata": {
        "id": "ObNR62I78I3C"
      }
    },
    {
      "cell_type": "code",
      "source": [
        "url = \"https://www.anthonypinter.com/assignment15-source\"\n",
        "html = urlopen(url)"
      ],
      "metadata": {
        "id": "GkVWBZ5s8RTT"
      },
      "execution_count": 3,
      "outputs": []
    },
    {
      "cell_type": "markdown",
      "source": [
        "### Making the Soup\n",
        "\n",
        "In the next cell, place the code to make the soup."
      ],
      "metadata": {
        "id": "jB_g4DTK8SgM"
      }
    },
    {
      "cell_type": "code",
      "source": [
        "soup = BeautifulSoup(html, 'lxml')"
      ],
      "metadata": {
        "id": "6PbrmzzS8W2D"
      },
      "execution_count": 4,
      "outputs": []
    },
    {
      "cell_type": "markdown",
      "source": [
        "### Country Name\n",
        "\n",
        "In the next cell, put the code to scrape the name of the country you selected (it cannot be Andorra or Zimbabwe). After you scrape the country's name, print it as a string."
      ],
      "metadata": {
        "id": "6PfPLJ3G8X2a"
      }
    },
    {
      "cell_type": "code",
      "source": [
        "countryName = soup.find('i', class_=\"flag-icon flag-icon-ae\").next_element\n",
        "print(countryName.string)"
      ],
      "metadata": {
        "id": "zJzGfr6-8sVr",
        "colab": {
          "base_uri": "https://localhost:8080/"
        },
        "outputId": "8d64e263-809e-4687-9055-23569020e65b"
      },
      "execution_count": 41,
      "outputs": [
        {
          "output_type": "stream",
          "name": "stdout",
          "text": [
            "\n",
            "\n"
          ]
        }
      ]
    },
    {
      "cell_type": "markdown",
      "source": [
        "### Country Capital\n",
        "\n",
        "In the next cell, put the code to scrape the name of the capital of the country you selected. After you scrape the country's capital's name, print it as a string."
      ],
      "metadata": {
        "id": "ISAcFbWa8t7R"
      }
    },
    {
      "cell_type": "code",
      "source": [
        "countryCapital = countryName.next_element.find('span', class_=\"country-capital\")\n",
        "print(countryCapital.string)"
      ],
      "metadata": {
        "id": "5XUFuLAp815H",
        "colab": {
          "base_uri": "https://localhost:8080/"
        },
        "outputId": "cdd4d9ab-8547-4106-cae6-086d9aff9f9a"
      },
      "execution_count": 49,
      "outputs": [
        {
          "output_type": "stream",
          "name": "stdout",
          "text": [
            "Abu Dhabi\n"
          ]
        }
      ]
    },
    {
      "cell_type": "markdown",
      "source": [
        "### Country Population\n",
        "\n",
        "In the next cell, put the code to scrape the population of the country you selected. After you scrape the country's population, print it as a string."
      ],
      "metadata": {
        "id": "U0tmmp-y84Zr"
      }
    },
    {
      "cell_type": "code",
      "source": [
        "countryPopulation = countryName.next_element.find('span', class_=\"country-population\")\n",
        "print(countryPopulation.string)"
      ],
      "metadata": {
        "id": "4BuQEtYS9FZY",
        "colab": {
          "base_uri": "https://localhost:8080/"
        },
        "outputId": "824cd0cc-c433-4fe1-b255-09811a95ed56"
      },
      "execution_count": 53,
      "outputs": [
        {
          "output_type": "stream",
          "name": "stdout",
          "text": [
            "4975593\n"
          ]
        }
      ]
    },
    {
      "cell_type": "markdown",
      "source": [
        "### Country Area\n",
        "\n",
        "In the next cell, put the code to scrape the geographic size of the country you selected. After you scrape the country's size, print it as a string."
      ],
      "metadata": {
        "id": "coOJuuuI9GvG"
      }
    },
    {
      "cell_type": "code",
      "source": [
        "countryArea = countryName.next_element.find('span', class_=\"country-area\")\n",
        "print(countryArea.string)"
      ],
      "metadata": {
        "id": "-gOdrVoF9Lyy",
        "colab": {
          "base_uri": "https://localhost:8080/"
        },
        "outputId": "fde318ef-8920-437f-ff55-9508261262d5"
      },
      "execution_count": 55,
      "outputs": [
        {
          "output_type": "stream",
          "name": "stdout",
          "text": [
            "82880.0\n"
          ]
        }
      ]
    }
  ]
}